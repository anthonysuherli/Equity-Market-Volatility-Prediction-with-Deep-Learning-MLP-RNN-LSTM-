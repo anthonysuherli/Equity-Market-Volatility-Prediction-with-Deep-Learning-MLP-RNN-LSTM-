{
 "cells": [
  {
   "cell_type": "code",
   "execution_count": 119,
   "metadata": {},
   "outputs": [],
   "source": [
    "import numpy as np\n",
    "import pandas as pd\n",
    "import tensorflow as tf\n",
    "import keras\n",
    "import matplotlib.pyplot as plt"
   ]
  },
  {
   "cell_type": "code",
   "execution_count": 120,
   "metadata": {},
   "outputs": [],
   "source": [
    "from keras.layers import Dense, LSTM, Dropout, BatchNormalization, Activation\n",
    "from keras.models import Sequential\n",
    "from keras.utils import to_categorical\n",
    "from keras.callbacks import EarlyStopping\n",
    "from keras import optimizers"
   ]
  },
  {
   "cell_type": "code",
   "execution_count": 17,
   "metadata": {},
   "outputs": [],
   "source": [
    "tf.keras.backend.set_floatx('float64')"
   ]
  },
  {
   "cell_type": "code",
   "execution_count": 110,
   "metadata": {},
   "outputs": [],
   "source": [
    "sp = pd.read_csv('sp500_dataset.csv')\n",
    "sp.set_index('Date',inplace=True)\n",
    "sp.drop(['Volume','vol_next'],axis=1,inplace=True)"
   ]
  },
  {
   "cell_type": "code",
   "execution_count": 19,
   "metadata": {},
   "outputs": [
    {
     "data": {
      "text/html": [
       "<div>\n",
       "<style scoped>\n",
       "    .dataframe tbody tr th:only-of-type {\n",
       "        vertical-align: middle;\n",
       "    }\n",
       "\n",
       "    .dataframe tbody tr th {\n",
       "        vertical-align: top;\n",
       "    }\n",
       "\n",
       "    .dataframe thead th {\n",
       "        text-align: right;\n",
       "    }\n",
       "</style>\n",
       "<table border=\"1\" class=\"dataframe\">\n",
       "  <thead>\n",
       "    <tr style=\"text-align: right;\">\n",
       "      <th></th>\n",
       "      <th>Return</th>\n",
       "      <th>volume_ch</th>\n",
       "      <th>hilo</th>\n",
       "      <th>intraday</th>\n",
       "      <th>2dvar</th>\n",
       "      <th>5dvar</th>\n",
       "      <th>20dvar</th>\n",
       "      <th>60dvar</th>\n",
       "      <th>next_2d_var</th>\n",
       "    </tr>\n",
       "    <tr>\n",
       "      <th>Date</th>\n",
       "      <th></th>\n",
       "      <th></th>\n",
       "      <th></th>\n",
       "      <th></th>\n",
       "      <th></th>\n",
       "      <th></th>\n",
       "      <th></th>\n",
       "      <th></th>\n",
       "      <th></th>\n",
       "    </tr>\n",
       "  </thead>\n",
       "  <tbody>\n",
       "    <tr>\n",
       "      <th>2010-03-31</th>\n",
       "      <td>-0.003273</td>\n",
       "      <td>0.097758</td>\n",
       "      <td>0.007540</td>\n",
       "      <td>-0.001980</td>\n",
       "      <td>0.002344</td>\n",
       "      <td>0.003392</td>\n",
       "      <td>0.004732</td>\n",
       "      <td>0.008946</td>\n",
       "      <td>0.007557</td>\n",
       "    </tr>\n",
       "    <tr>\n",
       "      <th>2010-04-01</th>\n",
       "      <td>0.007414</td>\n",
       "      <td>-0.106475</td>\n",
       "      <td>0.009174</td>\n",
       "      <td>0.005866</td>\n",
       "      <td>0.007557</td>\n",
       "      <td>0.004360</td>\n",
       "      <td>0.004863</td>\n",
       "      <td>0.008984</td>\n",
       "      <td>0.000364</td>\n",
       "    </tr>\n",
       "    <tr>\n",
       "      <th>2010-04-05</th>\n",
       "      <td>0.007928</td>\n",
       "      <td>-0.031259</td>\n",
       "      <td>0.007652</td>\n",
       "      <td>0.007406</td>\n",
       "      <td>0.000364</td>\n",
       "      <td>0.004937</td>\n",
       "      <td>0.004252</td>\n",
       "      <td>0.009033</td>\n",
       "      <td>0.004415</td>\n",
       "    </tr>\n",
       "    <tr>\n",
       "      <th>2010-04-06</th>\n",
       "      <td>0.001684</td>\n",
       "      <td>0.052700</td>\n",
       "      <td>0.007635</td>\n",
       "      <td>0.002892</td>\n",
       "      <td>0.004415</td>\n",
       "      <td>0.004830</td>\n",
       "      <td>0.004220</td>\n",
       "      <td>0.009024</td>\n",
       "      <td>0.005346</td>\n",
       "    </tr>\n",
       "    <tr>\n",
       "      <th>2010-04-07</th>\n",
       "      <td>-0.005877</td>\n",
       "      <td>0.248459</td>\n",
       "      <td>0.010491</td>\n",
       "      <td>-0.004864</td>\n",
       "      <td>0.005346</td>\n",
       "      <td>0.006195</td>\n",
       "      <td>0.004591</td>\n",
       "      <td>0.009059</td>\n",
       "      <td>0.006541</td>\n",
       "    </tr>\n",
       "  </tbody>\n",
       "</table>\n",
       "</div>"
      ],
      "text/plain": [
       "              Return  volume_ch      hilo  intraday     2dvar     5dvar  \\\n",
       "Date                                                                      \n",
       "2010-03-31 -0.003273   0.097758  0.007540 -0.001980  0.002344  0.003392   \n",
       "2010-04-01  0.007414  -0.106475  0.009174  0.005866  0.007557  0.004360   \n",
       "2010-04-05  0.007928  -0.031259  0.007652  0.007406  0.000364  0.004937   \n",
       "2010-04-06  0.001684   0.052700  0.007635  0.002892  0.004415  0.004830   \n",
       "2010-04-07 -0.005877   0.248459  0.010491 -0.004864  0.005346  0.006195   \n",
       "\n",
       "              20dvar    60dvar  next_2d_var  \n",
       "Date                                         \n",
       "2010-03-31  0.004732  0.008946     0.007557  \n",
       "2010-04-01  0.004863  0.008984     0.000364  \n",
       "2010-04-05  0.004252  0.009033     0.004415  \n",
       "2010-04-06  0.004220  0.009024     0.005346  \n",
       "2010-04-07  0.004591  0.009059     0.006541  "
      ]
     },
     "execution_count": 19,
     "metadata": {},
     "output_type": "execute_result"
    }
   ],
   "source": [
    "sp.head()"
   ]
  },
  {
   "cell_type": "code",
   "execution_count": 111,
   "metadata": {},
   "outputs": [],
   "source": [
    "x,y = sp.drop('next_2d_var',axis=1),sp['next_2d_var']\n",
    "x = np.array(x)\n",
    "y = np.array(y)\n",
    "x_train,x_test = x[:1850],x[1850:]\n",
    "y_train,y_test = y[:1850],y[1850:]\n",
    "x_train = x_train.reshape(x_train.shape[0],1,x_train.shape[1])\n",
    "x_test = x_test.reshape(x_test.shape[0],1,x_test.shape[1])\n",
    "y_train = y_train.reshape(y_train.shape[0],1,1)\n",
    "y_test = y_test.reshape(y_test.shape[0],1,1)"
   ]
  },
  {
   "cell_type": "code",
   "execution_count": 90,
   "metadata": {
    "collapsed": true,
    "jupyter": {
     "outputs_hidden": true
    }
   },
   "outputs": [
    {
     "data": {
      "text/plain": [
       "[<matplotlib.lines.Line2D at 0x26e21c833d0>]"
      ]
     },
     "execution_count": 90,
     "metadata": {},
     "output_type": "execute_result"
    },
    {
     "data": {
      "image/png": "[encoded data removed]",
      "text/plain": [
       "<Figure size 432x288 with 1 Axes>"
      ]
     },
     "metadata": {
      "needs_background": "light"
     },
     "output_type": "display_data"
    }
   ],
   "source": [
    "plt.plot(y)"
   ]
  },
  {
   "cell_type": "code",
   "execution_count": 125,
   "metadata": {},
   "outputs": [
    {
     "name": "stdout",
     "output_type": "stream",
     "text": [
      "Epoch 1/1000\n",
      "116/116 [==============================] - 2s 3ms/step - loss: 0.0975 - mean_squared_error: 0.0975 - val_loss: 0.0723 - val_mean_squared_error: 0.0723\n",
      "Epoch 2/1000\n",
      "116/116 [==============================] - 0s 1ms/step - loss: 0.0932 - mean_squared_error: 0.0932 - val_loss: 0.0683 - val_mean_squared_error: 0.0683\n",
      "Epoch 3/1000\n",
      "116/116 [==============================] - 0s 1ms/step - loss: 0.0877 - mean_squared_error: 0.0877 - val_loss: 0.0645 - val_mean_squared_error: 0.0645\n",
      "Epoch 4/1000\n",
      "116/116 [==============================] - 0s 1ms/step - loss: 0.0823 - mean_squared_error: 0.0823 - val_loss: 0.0610 - val_mean_squared_error: 0.0610\n",
      "Epoch 5/1000\n",
      "116/116 [==============================] - 0s 1ms/step - loss: 0.0797 - mean_squared_error: 0.0797 - val_loss: 0.0570 - val_mean_squared_error: 0.0570\n",
      "Epoch 6/1000\n",
      "116/116 [==============================] - 0s 1ms/step - loss: 0.0753 - mean_squared_error: 0.0753 - val_loss: 0.0535 - val_mean_squared_error: 0.0535\n",
      "Epoch 7/1000\n",
      "116/116 [==============================] - 0s 1ms/step - loss: 0.0688 - mean_squared_error: 0.0688 - val_loss: 0.0504 - val_mean_squared_error: 0.0504\n",
      "Epoch 8/1000\n",
      "116/116 [==============================] - 0s 1ms/step - loss: 0.0668 - mean_squared_error: 0.0668 - val_loss: 0.0471 - val_mean_squared_error: 0.0471\n",
      "Epoch 9/1000\n",
      "116/116 [==============================] - 0s 1ms/step - loss: 0.0630 - mean_squared_error: 0.0630 - val_loss: 0.0438 - val_mean_squared_error: 0.0438\n",
      "Epoch 10/1000\n",
      "116/116 [==============================] - 0s 1ms/step - loss: 0.0568 - mean_squared_error: 0.0568 - val_loss: 0.0406 - val_mean_squared_error: 0.0406\n",
      "Epoch 11/1000\n",
      "116/116 [==============================] - 0s 1ms/step - loss: 0.0521 - mean_squared_error: 0.0521 - val_loss: 0.0376 - val_mean_squared_error: 0.0376\n",
      "Epoch 12/1000\n",
      "116/116 [==============================] - 0s 1ms/step - loss: 0.0518 - mean_squared_error: 0.0518 - val_loss: 0.0351 - val_mean_squared_error: 0.0351\n",
      "Epoch 13/1000\n",
      "116/116 [==============================] - 0s 1ms/step - loss: 0.0460 - mean_squared_error: 0.0460 - val_loss: 0.0322 - val_mean_squared_error: 0.0322\n",
      "Epoch 14/1000\n",
      "116/116 [==============================] - 0s 1ms/step - loss: 0.0415 - mean_squared_error: 0.0415 - val_loss: 0.0298 - val_mean_squared_error: 0.0298\n",
      "Epoch 15/1000\n",
      "116/116 [==============================] - 0s 1ms/step - loss: 0.0391 - mean_squared_error: 0.0391 - val_loss: 0.0272 - val_mean_squared_error: 0.0272\n",
      "Epoch 16/1000\n",
      "116/116 [==============================] - 0s 1ms/step - loss: 0.0360 - mean_squared_error: 0.0360 - val_loss: 0.0249 - val_mean_squared_error: 0.0249\n",
      "Epoch 17/1000\n",
      "116/116 [==============================] - 0s 1ms/step - loss: 0.0337 - mean_squared_error: 0.0337 - val_loss: 0.0228 - val_mean_squared_error: 0.0228\n",
      "Epoch 18/1000\n",
      "116/116 [==============================] - 0s 1ms/step - loss: 0.0325 - mean_squared_error: 0.0325 - val_loss: 0.0208 - val_mean_squared_error: 0.0208\n",
      "Epoch 19/1000\n",
      "116/116 [==============================] - 0s 1ms/step - loss: 0.0285 - mean_squared_error: 0.0285 - val_loss: 0.0190 - val_mean_squared_error: 0.0190\n",
      "Epoch 20/1000\n",
      "116/116 [==============================] - 0s 1ms/step - loss: 0.0252 - mean_squared_error: 0.0252 - val_loss: 0.0173 - val_mean_squared_error: 0.0173\n",
      "Epoch 21/1000\n",
      "116/116 [==============================] - 0s 1ms/step - loss: 0.0231 - mean_squared_error: 0.0231 - val_loss: 0.0158 - val_mean_squared_error: 0.0158\n",
      "Epoch 22/1000\n",
      "116/116 [==============================] - 0s 1ms/step - loss: 0.0210 - mean_squared_error: 0.0210 - val_loss: 0.0145 - val_mean_squared_error: 0.0145\n",
      "Epoch 23/1000\n",
      "116/116 [==============================] - 0s 1ms/step - loss: 0.0195 - mean_squared_error: 0.0195 - val_loss: 0.0134 - val_mean_squared_error: 0.0134\n",
      "Epoch 24/1000\n",
      "116/116 [==============================] - 0s 1ms/step - loss: 0.0174 - mean_squared_error: 0.0174 - val_loss: 0.0120 - val_mean_squared_error: 0.0120\n",
      "Epoch 25/1000\n",
      "116/116 [==============================] - 0s 2ms/step - loss: 0.0168 - mean_squared_error: 0.0168 - val_loss: 0.0109 - val_mean_squared_error: 0.0109\n",
      "Epoch 26/1000\n",
      "116/116 [==============================] - 0s 2ms/step - loss: 0.0148 - mean_squared_error: 0.0148 - val_loss: 0.0099 - val_mean_squared_error: 0.0099\n",
      "Epoch 27/1000\n",
      "116/116 [==============================] - 0s 2ms/step - loss: 0.0141 - mean_squared_error: 0.0141 - val_loss: 0.0091 - val_mean_squared_error: 0.0091\n",
      "Epoch 28/1000\n",
      "116/116 [==============================] - 0s 2ms/step - loss: 0.0125 - mean_squared_error: 0.0125 - val_loss: 0.0083 - val_mean_squared_error: 0.0083\n",
      "Epoch 29/1000\n",
      "116/116 [==============================] - 0s 1ms/step - loss: 0.0117 - mean_squared_error: 0.0117 - val_loss: 0.0076 - val_mean_squared_error: 0.0076\n",
      "Epoch 30/1000\n",
      "116/116 [==============================] - 0s 1ms/step - loss: 0.0106 - mean_squared_error: 0.0106 - val_loss: 0.0069 - val_mean_squared_error: 0.0069\n",
      "Epoch 31/1000\n",
      "116/116 [==============================] - 0s 1ms/step - loss: 0.0094 - mean_squared_error: 0.0094 - val_loss: 0.0063 - val_mean_squared_error: 0.0063\n",
      "Epoch 32/1000\n",
      "116/116 [==============================] - 0s 1ms/step - loss: 0.0091 - mean_squared_error: 0.0091 - val_loss: 0.0057 - val_mean_squared_error: 0.0057\n",
      "Epoch 33/1000\n",
      "116/116 [==============================] - 0s 1ms/step - loss: 0.0083 - mean_squared_error: 0.0083 - val_loss: 0.0052 - val_mean_squared_error: 0.0052\n",
      "Epoch 34/1000\n",
      "116/116 [==============================] - 0s 1ms/step - loss: 0.0075 - mean_squared_error: 0.0075 - val_loss: 0.0047 - val_mean_squared_error: 0.0047\n",
      "Epoch 35/1000\n",
      "116/116 [==============================] - 0s 1ms/step - loss: 0.0070 - mean_squared_error: 0.0070 - val_loss: 0.0043 - val_mean_squared_error: 0.0043\n",
      "Epoch 36/1000\n",
      "116/116 [==============================] - 0s 1ms/step - loss: 0.0063 - mean_squared_error: 0.0063 - val_loss: 0.0040 - val_mean_squared_error: 0.0040\n",
      "Epoch 37/1000\n",
      "116/116 [==============================] - 0s 1ms/step - loss: 0.0056 - mean_squared_error: 0.0056 - val_loss: 0.0036 - val_mean_squared_error: 0.0036\n",
      "Epoch 38/1000\n",
      "116/116 [==============================] - 0s 1ms/step - loss: 0.0047 - mean_squared_error: 0.0047 - val_loss: 0.0033 - val_mean_squared_error: 0.0033\n",
      "Epoch 39/1000\n",
      "116/116 [==============================] - 0s 1ms/step - loss: 0.0047 - mean_squared_error: 0.0047 - val_loss: 0.0030 - val_mean_squared_error: 0.0030\n",
      "Epoch 40/1000\n",
      "116/116 [==============================] - 0s 1ms/step - loss: 0.0043 - mean_squared_error: 0.0043 - val_loss: 0.0028 - val_mean_squared_error: 0.0028\n",
      "Epoch 41/1000\n",
      "116/116 [==============================] - 0s 1ms/step - loss: 0.0041 - mean_squared_error: 0.0041 - val_loss: 0.0025 - val_mean_squared_error: 0.0025\n",
      "Epoch 42/1000\n",
      "116/116 [==============================] - 0s 1ms/step - loss: 0.0035 - mean_squared_error: 0.0035 - val_loss: 0.0023 - val_mean_squared_error: 0.0023\n",
      "Epoch 43/1000\n",
      "116/116 [==============================] - 0s 1ms/step - loss: 0.0036 - mean_squared_error: 0.0036 - val_loss: 0.0021 - val_mean_squared_error: 0.0021\n",
      "Epoch 44/1000\n",
      "116/116 [==============================] - 0s 1ms/step - loss: 0.0030 - mean_squared_error: 0.0030 - val_loss: 0.0020 - val_mean_squared_error: 0.0020\n",
      "Epoch 45/1000\n",
      "116/116 [==============================] - 0s 1ms/step - loss: 0.0030 - mean_squared_error: 0.0030 - val_loss: 0.0018 - val_mean_squared_error: 0.0018\n",
      "Epoch 46/1000\n",
      "116/116 [==============================] - 0s 1ms/step - loss: 0.0027 - mean_squared_error: 0.0027 - val_loss: 0.0016 - val_mean_squared_error: 0.0016\n",
      "Epoch 47/1000\n",
      "116/116 [==============================] - 0s 1ms/step - loss: 0.0025 - mean_squared_error: 0.0025 - val_loss: 0.0015 - val_mean_squared_error: 0.0015\n",
      "Epoch 48/1000\n",
      "116/116 [==============================] - 0s 1ms/step - loss: 0.0023 - mean_squared_error: 0.0023 - val_loss: 0.0014 - val_mean_squared_error: 0.0014\n",
      "Epoch 49/1000\n",
      "116/116 [==============================] - 0s 2ms/step - loss: 0.0020 - mean_squared_error: 0.0020 - val_loss: 0.0012 - val_mean_squared_error: 0.0012\n",
      "Epoch 50/1000\n",
      "116/116 [==============================] - 0s 2ms/step - loss: 0.0020 - mean_squared_error: 0.0020 - val_loss: 0.0011 - val_mean_squared_error: 0.0011\n",
      "Epoch 51/1000\n",
      "116/116 [==============================] - 0s 1ms/step - loss: 0.0017 - mean_squared_error: 0.0017 - val_loss: 0.0011 - val_mean_squared_error: 0.0011\n",
      "Epoch 52/1000\n",
      "116/116 [==============================] - 0s 1ms/step - loss: 0.0016 - mean_squared_error: 0.0016 - val_loss: 9.5658e-04 - val_mean_squared_error: 9.5658e-04\n",
      "Epoch 53/1000\n",
      "116/116 [==============================] - 0s 1ms/step - loss: 0.0015 - mean_squared_error: 0.0015 - val_loss: 8.7934e-04 - val_mean_squared_error: 8.7934e-04\n",
      "Epoch 54/1000\n",
      "116/116 [==============================] - 0s 1ms/step - loss: 0.0015 - mean_squared_error: 0.0015 - val_loss: 7.9532e-04 - val_mean_squared_error: 7.9532e-04\n",
      "Epoch 55/1000\n",
      "116/116 [==============================] - 0s 1ms/step - loss: 0.0011 - mean_squared_error: 0.0011 - val_loss: 7.3185e-04 - val_mean_squared_error: 7.3185e-04\n",
      "Epoch 56/1000\n",
      "116/116 [==============================] - 0s 1ms/step - loss: 0.0011 - mean_squared_error: 0.0011 - val_loss: 6.7247e-04 - val_mean_squared_error: 6.7247e-04\n",
      "Epoch 57/1000\n",
      "116/116 [==============================] - 0s 1ms/step - loss: 0.0011 - mean_squared_error: 0.0011 - val_loss: 6.2075e-04 - val_mean_squared_error: 6.2075e-04\n",
      "Epoch 58/1000\n",
      "116/116 [==============================] - 0s 1ms/step - loss: 9.5698e-04 - mean_squared_error: 9.5698e-04 - val_loss: 5.7419e-04 - val_mean_squared_error: 5.7419e-04\n",
      "Epoch 59/1000\n",
      "116/116 [==============================] - 0s 1ms/step - loss: 8.4527e-04 - mean_squared_error: 8.4527e-04 - val_loss: 5.2716e-04 - val_mean_squared_error: 5.2716e-04\n",
      "Epoch 60/1000\n",
      "116/116 [==============================] - 0s 1ms/step - loss: 8.4338e-04 - mean_squared_error: 8.4338e-04 - val_loss: 4.7925e-04 - val_mean_squared_error: 4.7925e-04\n",
      "Epoch 61/1000\n",
      "116/116 [==============================] - 0s 1ms/step - loss: 7.6657e-04 - mean_squared_error: 7.6657e-04 - val_loss: 4.4175e-04 - val_mean_squared_error: 4.4175e-04\n",
      "Epoch 62/1000\n",
      "116/116 [==============================] - 0s 1ms/step - loss: 7.5058e-04 - mean_squared_error: 7.5058e-04 - val_loss: 4.0556e-04 - val_mean_squared_error: 4.0556e-04\n",
      "Epoch 63/1000\n",
      "116/116 [==============================] - 0s 1ms/step - loss: 6.5314e-04 - mean_squared_error: 6.5314e-04 - val_loss: 3.7733e-04 - val_mean_squared_error: 3.7733e-04\n",
      "Epoch 64/1000\n",
      "116/116 [==============================] - 0s 1ms/step - loss: 5.3775e-04 - mean_squared_error: 5.3775e-04 - val_loss: 3.4693e-04 - val_mean_squared_error: 3.4693e-04\n",
      "Epoch 65/1000\n",
      "116/116 [==============================] - 0s 1ms/step - loss: 6.3792e-04 - mean_squared_error: 6.3792e-04 - val_loss: 3.1843e-04 - val_mean_squared_error: 3.1843e-04\n",
      "Epoch 66/1000\n",
      "116/116 [==============================] - 0s 1ms/step - loss: 5.0366e-04 - mean_squared_error: 5.0366e-04 - val_loss: 2.9170e-04 - val_mean_squared_error: 2.9170e-04\n",
      "Epoch 67/1000\n",
      "116/116 [==============================] - 0s 1ms/step - loss: 4.3741e-04 - mean_squared_error: 4.3741e-04 - val_loss: 2.6873e-04 - val_mean_squared_error: 2.6873e-04\n",
      "Epoch 68/1000\n",
      "116/116 [==============================] - 0s 1ms/step - loss: 4.2529e-04 - mean_squared_error: 4.2529e-04 - val_loss: 2.4484e-04 - val_mean_squared_error: 2.4484e-04\n",
      "Epoch 69/1000\n",
      "116/116 [==============================] - 0s 1ms/step - loss: 3.9487e-04 - mean_squared_error: 3.9487e-04 - val_loss: 2.2794e-04 - val_mean_squared_error: 2.2794e-04\n",
      "Epoch 70/1000\n",
      "116/116 [==============================] - 0s 1ms/step - loss: 3.9327e-04 - mean_squared_error: 3.9327e-04 - val_loss: 2.0946e-04 - val_mean_squared_error: 2.0946e-04\n",
      "Epoch 71/1000\n",
      "116/116 [==============================] - 0s 1ms/step - loss: 3.4717e-04 - mean_squared_error: 3.4717e-04 - val_loss: 1.9402e-04 - val_mean_squared_error: 1.9402e-04\n",
      "Epoch 72/1000\n",
      "116/116 [==============================] - 0s 1ms/step - loss: 3.5271e-04 - mean_squared_error: 3.5271e-04 - val_loss: 1.7959e-04 - val_mean_squared_error: 1.7959e-04\n",
      "Epoch 73/1000\n",
      "116/116 [==============================] - 0s 2ms/step - loss: 3.2271e-04 - mean_squared_error: 3.2271e-04 - val_loss: 1.6348e-04 - val_mean_squared_error: 1.6348e-04\n",
      "Epoch 74/1000\n",
      "116/116 [==============================] - 0s 1ms/step - loss: 2.7054e-04 - mean_squared_error: 2.7054e-04 - val_loss: 1.5118e-04 - val_mean_squared_error: 1.5118e-04\n",
      "Epoch 75/1000\n",
      "116/116 [==============================] - 0s 1ms/step - loss: 2.2786e-04 - mean_squared_error: 2.2786e-04 - val_loss: 1.4028e-04 - val_mean_squared_error: 1.4028e-04\n",
      "Epoch 76/1000\n",
      "116/116 [==============================] - 0s 1ms/step - loss: 2.5392e-04 - mean_squared_error: 2.5392e-04 - val_loss: 1.3220e-04 - val_mean_squared_error: 1.3220e-04\n",
      "Epoch 77/1000\n",
      "116/116 [==============================] - 0s 1ms/step - loss: 2.1770e-04 - mean_squared_error: 2.1770e-04 - val_loss: 1.2151e-04 - val_mean_squared_error: 1.2151e-04\n",
      "Epoch 78/1000\n",
      "116/116 [==============================] - 0s 1ms/step - loss: 2.2569e-04 - mean_squared_error: 2.2569e-04 - val_loss: 1.1224e-04 - val_mean_squared_error: 1.1224e-04\n",
      "Epoch 79/1000\n",
      "116/116 [==============================] - 0s 1ms/step - loss: 2.0011e-04 - mean_squared_error: 2.0011e-04 - val_loss: 1.0483e-04 - val_mean_squared_error: 1.0483e-04\n",
      "Epoch 80/1000\n",
      "116/116 [==============================] - 0s 1ms/step - loss: 1.9385e-04 - mean_squared_error: 1.9385e-04 - val_loss: 9.7904e-05 - val_mean_squared_error: 9.7904e-05\n",
      "Epoch 81/1000\n",
      "116/116 [==============================] - 0s 1ms/step - loss: 1.6459e-04 - mean_squared_error: 1.6459e-04 - val_loss: 9.1963e-05 - val_mean_squared_error: 9.1963e-05\n",
      "Epoch 82/1000\n",
      "116/116 [==============================] - 0s 1ms/step - loss: 1.7692e-04 - mean_squared_error: 1.7692e-04 - val_loss: 8.6924e-05 - val_mean_squared_error: 8.6924e-05\n",
      "Epoch 83/1000\n",
      "116/116 [==============================] - 0s 1ms/step - loss: 1.7304e-04 - mean_squared_error: 1.7304e-04 - val_loss: 7.9111e-05 - val_mean_squared_error: 7.9111e-05\n",
      "Epoch 84/1000\n",
      "116/116 [==============================] - 0s 1ms/step - loss: 1.6532e-04 - mean_squared_error: 1.6532e-04 - val_loss: 7.4669e-05 - val_mean_squared_error: 7.4669e-05\n",
      "Epoch 85/1000\n",
      "116/116 [==============================] - 0s 1ms/step - loss: 1.2390e-04 - mean_squared_error: 1.2390e-04 - val_loss: 7.1023e-05 - val_mean_squared_error: 7.1023e-05\n",
      "Epoch 86/1000\n",
      "116/116 [==============================] - 0s 1ms/step - loss: 1.3317e-04 - mean_squared_error: 1.3317e-04 - val_loss: 6.7288e-05 - val_mean_squared_error: 6.7288e-05\n",
      "Epoch 87/1000\n",
      "116/116 [==============================] - 0s 1ms/step - loss: 1.2962e-04 - mean_squared_error: 1.2962e-04 - val_loss: 6.3241e-05 - val_mean_squared_error: 6.3241e-05\n",
      "Epoch 88/1000\n",
      "116/116 [==============================] - 0s 1ms/step - loss: 1.1496e-04 - mean_squared_error: 1.1496e-04 - val_loss: 5.9829e-05 - val_mean_squared_error: 5.9829e-05\n",
      "Epoch 89/1000\n",
      "116/116 [==============================] - 0s 997us/step - loss: 1.1436e-04 - mean_squared_error: 1.1436e-04 - val_loss: 5.6923e-05 - val_mean_squared_error: 5.6923e-05\n",
      "Epoch 90/1000\n",
      "116/116 [==============================] - 0s 1ms/step - loss: 1.0210e-04 - mean_squared_error: 1.0210e-04 - val_loss: 5.4597e-05 - val_mean_squared_error: 5.4597e-05\n",
      "Epoch 91/1000\n",
      "116/116 [==============================] - 0s 1ms/step - loss: 8.9868e-05 - mean_squared_error: 8.9868e-05 - val_loss: 5.2059e-05 - val_mean_squared_error: 5.2059e-05\n",
      "Epoch 92/1000\n",
      "116/116 [==============================] - 0s 1ms/step - loss: 8.4269e-05 - mean_squared_error: 8.4269e-05 - val_loss: 4.9709e-05 - val_mean_squared_error: 4.9709e-05\n",
      "Epoch 93/1000\n",
      "116/116 [==============================] - 0s 1ms/step - loss: 1.0119e-04 - mean_squared_error: 1.0119e-04 - val_loss: 4.7749e-05 - val_mean_squared_error: 4.7749e-05\n",
      "Epoch 94/1000\n",
      "116/116 [==============================] - 0s 1ms/step - loss: 7.7513e-05 - mean_squared_error: 7.7513e-05 - val_loss: 4.6268e-05 - val_mean_squared_error: 4.6268e-05\n",
      "Epoch 95/1000\n",
      "116/116 [==============================] - 0s 1ms/step - loss: 9.9902e-05 - mean_squared_error: 9.9902e-05 - val_loss: 4.4457e-05 - val_mean_squared_error: 4.4457e-05\n",
      "Epoch 96/1000\n",
      "116/116 [==============================] - 0s 1ms/step - loss: 7.8731e-05 - mean_squared_error: 7.8731e-05 - val_loss: 4.3111e-05 - val_mean_squared_error: 4.3111e-05\n",
      "Epoch 97/1000\n",
      "116/116 [==============================] - 0s 1ms/step - loss: 8.6848e-05 - mean_squared_error: 8.6848e-05 - val_loss: 4.1251e-05 - val_mean_squared_error: 4.1251e-05\n",
      "Epoch 98/1000\n",
      "116/116 [==============================] - 0s 1ms/step - loss: 6.6193e-05 - mean_squared_error: 6.6193e-05 - val_loss: 4.0211e-05 - val_mean_squared_error: 4.0211e-05\n",
      "Epoch 99/1000\n",
      "116/116 [==============================] - 0s 1ms/step - loss: 6.5393e-05 - mean_squared_error: 6.5393e-05 - val_loss: 3.9067e-05 - val_mean_squared_error: 3.9067e-05\n",
      "Epoch 100/1000\n",
      "116/116 [==============================] - 0s 1ms/step - loss: 7.0735e-05 - mean_squared_error: 7.0735e-05 - val_loss: 3.8325e-05 - val_mean_squared_error: 3.8325e-05\n",
      "Epoch 101/1000\n",
      "116/116 [==============================] - 0s 1ms/step - loss: 6.7153e-05 - mean_squared_error: 6.7153e-05 - val_loss: 3.7827e-05 - val_mean_squared_error: 3.7827e-05\n",
      "Epoch 102/1000\n",
      "116/116 [==============================] - 0s 1ms/step - loss: 5.7793e-05 - mean_squared_error: 5.7793e-05 - val_loss: 3.7069e-05 - val_mean_squared_error: 3.7069e-05\n",
      "Epoch 103/1000\n",
      "116/116 [==============================] - 0s 1ms/step - loss: 6.1560e-05 - mean_squared_error: 6.1560e-05 - val_loss: 3.6405e-05 - val_mean_squared_error: 3.6405e-05\n",
      "Epoch 104/1000\n",
      "116/116 [==============================] - 0s 1ms/step - loss: 6.5247e-05 - mean_squared_error: 6.5247e-05 - val_loss: 3.5905e-05 - val_mean_squared_error: 3.5905e-05\n",
      "Epoch 105/1000\n",
      "116/116 [==============================] - 0s 1ms/step - loss: 6.2797e-05 - mean_squared_error: 6.2797e-05 - val_loss: 3.5412e-05 - val_mean_squared_error: 3.5412e-05\n",
      "Epoch 106/1000\n",
      "116/116 [==============================] - 0s 1ms/step - loss: 7.0633e-05 - mean_squared_error: 7.0633e-05 - val_loss: 3.5049e-05 - val_mean_squared_error: 3.5049e-05\n",
      "Epoch 107/1000\n",
      "116/116 [==============================] - 0s 1ms/step - loss: 5.4793e-05 - mean_squared_error: 5.4793e-05 - val_loss: 3.4739e-05 - val_mean_squared_error: 3.4739e-05\n",
      "Epoch 108/1000\n",
      "116/116 [==============================] - 0s 1ms/step - loss: 5.6697e-05 - mean_squared_error: 5.6697e-05 - val_loss: 3.4389e-05 - val_mean_squared_error: 3.4389e-05\n",
      "Epoch 109/1000\n",
      "116/116 [==============================] - 0s 1ms/step - loss: 6.4771e-05 - mean_squared_error: 6.4771e-05 - val_loss: 3.4157e-05 - val_mean_squared_error: 3.4157e-05\n",
      "Epoch 110/1000\n",
      "116/116 [==============================] - 0s 1ms/step - loss: 5.6576e-05 - mean_squared_error: 5.6576e-05 - val_loss: 3.3977e-05 - val_mean_squared_error: 3.3977e-05\n",
      "Epoch 111/1000\n",
      "116/116 [==============================] - 0s 1ms/step - loss: 5.1540e-05 - mean_squared_error: 5.1540e-05 - val_loss: 3.4003e-05 - val_mean_squared_error: 3.4003e-05\n",
      "Epoch 112/1000\n",
      "116/116 [==============================] - 0s 997us/step - loss: 5.6930e-05 - mean_squared_error: 5.6930e-05 - val_loss: 3.4015e-05 - val_mean_squared_error: 3.4015e-05\n",
      "Epoch 113/1000\n",
      "116/116 [==============================] - 0s 1ms/step - loss: 6.0434e-05 - mean_squared_error: 6.0434e-05 - val_loss: 3.3876e-05 - val_mean_squared_error: 3.3876e-05\n",
      "Epoch 114/1000\n",
      "116/116 [==============================] - 0s 1ms/step - loss: 5.7419e-05 - mean_squared_error: 5.7419e-05 - val_loss: 3.3807e-05 - val_mean_squared_error: 3.3807e-05\n",
      "Epoch 115/1000\n",
      "116/116 [==============================] - 0s 1ms/step - loss: 5.7806e-05 - mean_squared_error: 5.7806e-05 - val_loss: 3.3809e-05 - val_mean_squared_error: 3.3809e-05\n",
      "Epoch 116/1000\n",
      "116/116 [==============================] - 0s 1ms/step - loss: 6.2844e-05 - mean_squared_error: 6.2844e-05 - val_loss: 3.3839e-05 - val_mean_squared_error: 3.3839e-05\n",
      "Epoch 117/1000\n",
      "116/116 [==============================] - 0s 1ms/step - loss: 4.9482e-05 - mean_squared_error: 4.9482e-05 - val_loss: 3.3785e-05 - val_mean_squared_error: 3.3785e-05\n",
      "Epoch 118/1000\n",
      "116/116 [==============================] - 0s 1ms/step - loss: 5.4152e-05 - mean_squared_error: 5.4152e-05 - val_loss: 3.3860e-05 - val_mean_squared_error: 3.3860e-05\n",
      "Epoch 119/1000\n",
      "116/116 [==============================] - 0s 1ms/step - loss: 5.4227e-05 - mean_squared_error: 5.4227e-05 - val_loss: 3.3906e-05 - val_mean_squared_error: 3.3906e-05\n",
      "Epoch 120/1000\n",
      "116/116 [==============================] - 0s 1ms/step - loss: 5.2432e-05 - mean_squared_error: 5.2432e-05 - val_loss: 3.3905e-05 - val_mean_squared_error: 3.3905e-05\n",
      "Epoch 121/1000\n",
      "116/116 [==============================] - 0s 1ms/step - loss: 5.4686e-05 - mean_squared_error: 5.4686e-05 - val_loss: 3.3965e-05 - val_mean_squared_error: 3.3965e-05\n",
      "Epoch 122/1000\n",
      "116/116 [==============================] - 0s 1ms/step - loss: 5.5254e-05 - mean_squared_error: 5.5254e-05 - val_loss: 3.4002e-05 - val_mean_squared_error: 3.4002e-05\n"
     ]
    }
   ],
   "source": [
    "lstm = Sequential()\n",
    "adam = optimizers.Adam(learning_rate=.0001) \n",
    "esm = EarlyStopping(patience=5)\n",
    "lstm.add(BatchNormalization())\n",
    "lstm.add(LSTM(1,batch_input_shape=(1,3),return_sequences=True,activation='sigmoid'))\n",
    "lstm.add(Dropout(.2))\n",
    "lstm.compile(loss='mean_squared_error',optimizer=adam,metrics=[keras.metrics.MeanSquaredError()])\n",
    "test = lstm.fit(x_train,y_train,epochs=1000,batch_size = 16, validation_data=(x_test,y_test),callbacks=[esm])"
   ]
  },
  {
   "cell_type": "code",
   "execution_count": 9,
   "metadata": {},
   "outputs": [],
   "source": []
  },
  {
   "cell_type": "code",
   "execution_count": 29,
   "metadata": {},
   "outputs": [],
   "source": [
    "results = lstm2.predict(x_test)"
   ]
  },
  {
   "cell_type": "code",
   "execution_count": 30,
   "metadata": {},
   "outputs": [
    {
     "data": {
      "text/plain": [
       "(605, 1, 1)"
      ]
     },
     "execution_count": 30,
     "metadata": {},
     "output_type": "execute_result"
    }
   ],
   "source": [
    "results.shape"
   ]
  },
  {
   "cell_type": "code",
   "execution_count": 124,
   "metadata": {},
   "outputs": [
    {
     "data": {
      "text/plain": [
       "[<matplotlib.lines.Line2D at 0x26e206d70a0>]"
      ]
     },
     "execution_count": 124,
     "metadata": {},
     "output_type": "execute_result"
    },
    {
     "data": {
      "image/png": "[encoded data removed]",
      "text/plain": [
       "<Figure size 432x288 with 1 Axes>"
      ]
     },
     "metadata": {
      "needs_background": "light"
     },
     "output_type": "display_data"
    }
   ],
   "source": [
    "results = lstm.predict(x_test)\n",
    "results = results.reshape(605,1)\n",
    "y_test = y_test.reshape(605,1)\n",
    "import matplotlib.patches as mpatches\n",
    "import matplotlib.pyplot as plt\n",
    "plt.title('LSTM volatility prediction')\n",
    "red_patch = mpatches.Patch(color='red', label='predicted')\n",
    "green_patch = mpatches.Patch(color='green', label='y_test')\n",
    "plt.legend(handles=[red_patch,green_patch])\n",
    "plt.plot(y_test,c='green')\n",
    "plt.plot(results,c='red')"
   ]
  },
  {
   "cell_type": "code",
   "execution_count": 118,
   "metadata": {},
   "outputs": [
    {
     "data": {
      "text/plain": [
       "Text(0.5, 1.0, 'Results vs Predicted')"
      ]
     },
     "execution_count": 118,
     "metadata": {},
     "output_type": "execute_result"
    },
    {
     "data": {
      "image/png": "[encoded data removed]",
      "text/plain": [
       "<Figure size 432x288 with 1 Axes>"
      ]
     },
     "metadata": {
      "needs_background": "light"
     },
     "output_type": "display_data"
    }
   ],
   "source": [
    "plt.scatter(results,y_test,c='green')\n",
    "plt.title('Results vs Predicted')"
   ]
  }
 ],
 "metadata": {
  "kernelspec": {
   "display_name": "Python 3",
   "language": "python",
   "name": "python3"
  },
  "language_info": {
   "codemirror_mode": {
    "name": "ipython",
    "version": 3
   },
   "file_extension": ".py",
   "mimetype": "text/x-python",
   "name": "python",
   "nbconvert_exporter": "python",
   "pygments_lexer": "ipython3",
   "version": "3.8.5"
  }
 },
 "nbformat": 4,
 "nbformat_minor": 4
}
