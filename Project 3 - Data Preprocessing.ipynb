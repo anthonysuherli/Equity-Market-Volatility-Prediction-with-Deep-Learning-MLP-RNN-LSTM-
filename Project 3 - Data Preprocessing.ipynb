{
 "cells": [
  {
   "cell_type": "code",
   "execution_count": 162,
   "metadata": {},
   "outputs": [],
   "source": [
    "import pandas as pd\n",
    "import numpy as np\n",
    "import yfinance as yf\n",
    "import warnings\n",
    "warnings.filterwarnings('ignore')"
   ]
  },
  {
   "cell_type": "code",
   "execution_count": 163,
   "metadata": {},
   "outputs": [],
   "source": [
    "prices = pd.read_csv('prices.csv',delimiter=';')\n",
    "prices.set_index('Ticker',inplace=True)"
   ]
  },
  {
   "cell_type": "code",
   "execution_count": 164,
   "metadata": {},
   "outputs": [],
   "source": [
    "sp500 = pd.read_csv('sp500daily.csv').set_index('Date')\n",
    "vix = yf.Ticker('^VIX').history(period='MAX')\n",
    "aapl = prices.loc['AAPL'].set_index('Date')"
   ]
  },
  {
   "cell_type": "code",
   "execution_count": 165,
   "metadata": {},
   "outputs": [],
   "source": [
    "sp500 = sp500[['Open','Low','High','Close','Volume']]\n",
    "aapl = aapl[['Open','Low','High','Close','Volume']]"
   ]
  },
  {
   "cell_type": "code",
   "execution_count": 166,
   "metadata": {},
   "outputs": [],
   "source": [
    "sp500['Return'] = sp500['Close'].pct_change()\n",
    "aapl['Return'] = aapl['Close'].pct_change()"
   ]
  },
  {
   "cell_type": "code",
   "execution_count": 167,
   "metadata": {},
   "outputs": [
    {
     "data": {
      "text/html": [
       "<div>\n",
       "<style scoped>\n",
       "    .dataframe tbody tr th:only-of-type {\n",
       "        vertical-align: middle;\n",
       "    }\n",
       "\n",
       "    .dataframe tbody tr th {\n",
       "        vertical-align: top;\n",
       "    }\n",
       "\n",
       "    .dataframe thead th {\n",
       "        text-align: right;\n",
       "    }\n",
       "</style>\n",
       "<table border=\"1\" class=\"dataframe\">\n",
       "  <thead>\n",
       "    <tr style=\"text-align: right;\">\n",
       "      <th></th>\n",
       "      <th>Open</th>\n",
       "      <th>Low</th>\n",
       "      <th>High</th>\n",
       "      <th>Close</th>\n",
       "      <th>Volume</th>\n",
       "      <th>Return</th>\n",
       "    </tr>\n",
       "    <tr>\n",
       "      <th>Date</th>\n",
       "      <th></th>\n",
       "      <th></th>\n",
       "      <th></th>\n",
       "      <th></th>\n",
       "      <th></th>\n",
       "      <th></th>\n",
       "    </tr>\n",
       "  </thead>\n",
       "  <tbody>\n",
       "    <tr>\n",
       "      <th>2010-01-04</th>\n",
       "      <td>1116.560059</td>\n",
       "      <td>1116.560059</td>\n",
       "      <td>1133.869995</td>\n",
       "      <td>1132.989990</td>\n",
       "      <td>3991400000</td>\n",
       "      <td>NaN</td>\n",
       "    </tr>\n",
       "    <tr>\n",
       "      <th>2010-01-05</th>\n",
       "      <td>1132.660034</td>\n",
       "      <td>1129.660034</td>\n",
       "      <td>1136.630005</td>\n",
       "      <td>1136.520020</td>\n",
       "      <td>2491020000</td>\n",
       "      <td>0.003116</td>\n",
       "    </tr>\n",
       "    <tr>\n",
       "      <th>2010-01-06</th>\n",
       "      <td>1135.709961</td>\n",
       "      <td>1133.949951</td>\n",
       "      <td>1139.189941</td>\n",
       "      <td>1137.140015</td>\n",
       "      <td>4972660000</td>\n",
       "      <td>0.000546</td>\n",
       "    </tr>\n",
       "    <tr>\n",
       "      <th>2010-01-07</th>\n",
       "      <td>1136.270020</td>\n",
       "      <td>1131.319946</td>\n",
       "      <td>1142.459961</td>\n",
       "      <td>1141.689941</td>\n",
       "      <td>5270680000</td>\n",
       "      <td>0.004001</td>\n",
       "    </tr>\n",
       "    <tr>\n",
       "      <th>2010-01-08</th>\n",
       "      <td>1140.520020</td>\n",
       "      <td>1136.219971</td>\n",
       "      <td>1145.390015</td>\n",
       "      <td>1144.979980</td>\n",
       "      <td>4389590000</td>\n",
       "      <td>0.002882</td>\n",
       "    </tr>\n",
       "  </tbody>\n",
       "</table>\n",
       "</div>"
      ],
      "text/plain": [
       "                   Open          Low         High        Close      Volume  \\\n",
       "Date                                                                         \n",
       "2010-01-04  1116.560059  1116.560059  1133.869995  1132.989990  3991400000   \n",
       "2010-01-05  1132.660034  1129.660034  1136.630005  1136.520020  2491020000   \n",
       "2010-01-06  1135.709961  1133.949951  1139.189941  1137.140015  4972660000   \n",
       "2010-01-07  1136.270020  1131.319946  1142.459961  1141.689941  5270680000   \n",
       "2010-01-08  1140.520020  1136.219971  1145.390015  1144.979980  4389590000   \n",
       "\n",
       "              Return  \n",
       "Date                  \n",
       "2010-01-04       NaN  \n",
       "2010-01-05  0.003116  \n",
       "2010-01-06  0.000546  \n",
       "2010-01-07  0.004001  \n",
       "2010-01-08  0.002882  "
      ]
     },
     "execution_count": 167,
     "metadata": {},
     "output_type": "execute_result"
    }
   ],
   "source": [
    "sp500.head()"
   ]
  },
  {
   "cell_type": "code",
   "execution_count": 168,
   "metadata": {},
   "outputs": [],
   "source": [
    "sp500['volume_ch'] = sp500['Volume'].pct_change()\n",
    "sp500['hilo'] = sp500['High']/sp500['Low']-1\n",
    "sp500['intraday'] = sp500['Close']/sp500['Open']-1\n",
    "sp500['2dvar'] = sp500['Return'].rolling(2).std()\n",
    "sp500['5dvar'] = sp500['Return'].rolling(5).std()\n",
    "sp500['20dvar'] = sp500['Return'].rolling(20).std()\n",
    "sp500['60dvar'] = sp500['Return'].rolling(60).std()\n",
    "sp500['next_2d_var'] = sp500['2dvar'].shift(-1)\n",
    "sp500['vol_next'] = sp500['next_2d_var']>sp500['2dvar']\n",
    "aapl['volume_ch'] = aapl['Volume'].pct_change()\n",
    "aapl['hilo'] = aapl['High']/aapl['Low']-1\n",
    "aapl['intraday'] = aapl['Close']/aapl['Open']-1\n",
    "aapl['2dvar'] = aapl['Return'].rolling(2).std()\n",
    "aapl['5dvar'] = aapl['Return'].rolling(5).std()\n",
    "aapl['20dvar'] = aapl['Return'].rolling(20).std()\n",
    "aapl['60dvar'] = aapl['Return'].rolling(60).std()\n",
    "aapl['next_2d_var'] = aapl['2dvar'].shift(-1)\n",
    "aapl['vol_next'] = aapl['next_2d_var']>aapl['2dvar']\n",
    "sp500_dataset = sp500.loc[:,'Volume':]\n",
    "aapl_dataset = aapl.loc[:,'Volume':]\n",
    "aapl_dataset.dropna(inplace=True)\n",
    "sp500_dataset.dropna(inplace=True)"
   ]
  },
  {
   "cell_type": "code",
   "execution_count": 169,
   "metadata": {},
   "outputs": [
    {
     "data": {
      "text/html": [
       "<div>\n",
       "<style scoped>\n",
       "    .dataframe tbody tr th:only-of-type {\n",
       "        vertical-align: middle;\n",
       "    }\n",
       "\n",
       "    .dataframe tbody tr th {\n",
       "        vertical-align: top;\n",
       "    }\n",
       "\n",
       "    .dataframe thead th {\n",
       "        text-align: right;\n",
       "    }\n",
       "</style>\n",
       "<table border=\"1\" class=\"dataframe\">\n",
       "  <thead>\n",
       "    <tr style=\"text-align: right;\">\n",
       "      <th></th>\n",
       "      <th>Volume</th>\n",
       "      <th>Return</th>\n",
       "      <th>volume_ch</th>\n",
       "      <th>hilo</th>\n",
       "      <th>intraday</th>\n",
       "      <th>2dvar</th>\n",
       "      <th>5dvar</th>\n",
       "      <th>20dvar</th>\n",
       "      <th>60dvar</th>\n",
       "      <th>next_2d_var</th>\n",
       "      <th>vol_next</th>\n",
       "    </tr>\n",
       "    <tr>\n",
       "      <th>Date</th>\n",
       "      <th></th>\n",
       "      <th></th>\n",
       "      <th></th>\n",
       "      <th></th>\n",
       "      <th></th>\n",
       "      <th></th>\n",
       "      <th></th>\n",
       "      <th></th>\n",
       "      <th></th>\n",
       "      <th></th>\n",
       "      <th></th>\n",
       "    </tr>\n",
       "  </thead>\n",
       "  <tbody>\n",
       "    <tr>\n",
       "      <th>2010-03-31</th>\n",
       "      <td>4484340000</td>\n",
       "      <td>-0.003273</td>\n",
       "      <td>0.097758</td>\n",
       "      <td>0.007540</td>\n",
       "      <td>-0.001980</td>\n",
       "      <td>0.002344</td>\n",
       "      <td>0.003392</td>\n",
       "      <td>0.004732</td>\n",
       "      <td>0.008946</td>\n",
       "      <td>0.007557</td>\n",
       "      <td>True</td>\n",
       "    </tr>\n",
       "    <tr>\n",
       "      <th>2010-04-01</th>\n",
       "      <td>4006870000</td>\n",
       "      <td>0.007414</td>\n",
       "      <td>-0.106475</td>\n",
       "      <td>0.009174</td>\n",
       "      <td>0.005866</td>\n",
       "      <td>0.007557</td>\n",
       "      <td>0.004360</td>\n",
       "      <td>0.004863</td>\n",
       "      <td>0.008984</td>\n",
       "      <td>0.000364</td>\n",
       "      <td>False</td>\n",
       "    </tr>\n",
       "    <tr>\n",
       "      <th>2010-04-05</th>\n",
       "      <td>3881620000</td>\n",
       "      <td>0.007928</td>\n",
       "      <td>-0.031259</td>\n",
       "      <td>0.007652</td>\n",
       "      <td>0.007406</td>\n",
       "      <td>0.000364</td>\n",
       "      <td>0.004937</td>\n",
       "      <td>0.004252</td>\n",
       "      <td>0.009033</td>\n",
       "      <td>0.004415</td>\n",
       "      <td>True</td>\n",
       "    </tr>\n",
       "    <tr>\n",
       "      <th>2010-04-06</th>\n",
       "      <td>4086180000</td>\n",
       "      <td>0.001684</td>\n",
       "      <td>0.052700</td>\n",
       "      <td>0.007635</td>\n",
       "      <td>0.002892</td>\n",
       "      <td>0.004415</td>\n",
       "      <td>0.004830</td>\n",
       "      <td>0.004220</td>\n",
       "      <td>0.009024</td>\n",
       "      <td>0.005346</td>\n",
       "      <td>True</td>\n",
       "    </tr>\n",
       "    <tr>\n",
       "      <th>2010-04-07</th>\n",
       "      <td>5101430000</td>\n",
       "      <td>-0.005877</td>\n",
       "      <td>0.248459</td>\n",
       "      <td>0.010491</td>\n",
       "      <td>-0.004864</td>\n",
       "      <td>0.005346</td>\n",
       "      <td>0.006195</td>\n",
       "      <td>0.004591</td>\n",
       "      <td>0.009059</td>\n",
       "      <td>0.006541</td>\n",
       "      <td>True</td>\n",
       "    </tr>\n",
       "  </tbody>\n",
       "</table>\n",
       "</div>"
      ],
      "text/plain": [
       "                Volume    Return  volume_ch      hilo  intraday     2dvar  \\\n",
       "Date                                                                        \n",
       "2010-03-31  4484340000 -0.003273   0.097758  0.007540 -0.001980  0.002344   \n",
       "2010-04-01  4006870000  0.007414  -0.106475  0.009174  0.005866  0.007557   \n",
       "2010-04-05  3881620000  0.007928  -0.031259  0.007652  0.007406  0.000364   \n",
       "2010-04-06  4086180000  0.001684   0.052700  0.007635  0.002892  0.004415   \n",
       "2010-04-07  5101430000 -0.005877   0.248459  0.010491 -0.004864  0.005346   \n",
       "\n",
       "               5dvar    20dvar    60dvar  next_2d_var  vol_next  \n",
       "Date                                                             \n",
       "2010-03-31  0.003392  0.004732  0.008946     0.007557      True  \n",
       "2010-04-01  0.004360  0.004863  0.008984     0.000364     False  \n",
       "2010-04-05  0.004937  0.004252  0.009033     0.004415      True  \n",
       "2010-04-06  0.004830  0.004220  0.009024     0.005346      True  \n",
       "2010-04-07  0.006195  0.004591  0.009059     0.006541      True  "
      ]
     },
     "execution_count": 169,
     "metadata": {},
     "output_type": "execute_result"
    }
   ],
   "source": [
    "sp500_dataset.head()"
   ]
  },
  {
   "cell_type": "code",
   "execution_count": 147,
   "metadata": {},
   "outputs": [
    {
     "data": {
      "text/html": [
       "<div>\n",
       "<style scoped>\n",
       "    .dataframe tbody tr th:only-of-type {\n",
       "        vertical-align: middle;\n",
       "    }\n",
       "\n",
       "    .dataframe tbody tr th {\n",
       "        vertical-align: top;\n",
       "    }\n",
       "\n",
       "    .dataframe thead th {\n",
       "        text-align: right;\n",
       "    }\n",
       "</style>\n",
       "<table border=\"1\" class=\"dataframe\">\n",
       "  <thead>\n",
       "    <tr style=\"text-align: right;\">\n",
       "      <th></th>\n",
       "      <th>Volume</th>\n",
       "      <th>Return</th>\n",
       "      <th>hilo</th>\n",
       "      <th>intraday</th>\n",
       "      <th>2dvar</th>\n",
       "      <th>5dvar</th>\n",
       "      <th>20dvar</th>\n",
       "      <th>next_2d_var</th>\n",
       "      <th>vol_next</th>\n",
       "      <th>volume_ch</th>\n",
       "    </tr>\n",
       "    <tr>\n",
       "      <th>Date</th>\n",
       "      <th></th>\n",
       "      <th></th>\n",
       "      <th></th>\n",
       "      <th></th>\n",
       "      <th></th>\n",
       "      <th></th>\n",
       "      <th></th>\n",
       "      <th></th>\n",
       "      <th></th>\n",
       "      <th></th>\n",
       "    </tr>\n",
       "  </thead>\n",
       "  <tbody>\n",
       "    <tr>\n",
       "      <th>2007-02-01</th>\n",
       "      <td>23726500</td>\n",
       "      <td>-0.009804</td>\n",
       "      <td>0.016502</td>\n",
       "      <td>-0.016234</td>\n",
       "      <td>0.006932</td>\n",
       "      <td>0.006925</td>\n",
       "      <td>0.029264</td>\n",
       "      <td>0.006932</td>\n",
       "      <td>False</td>\n",
       "      <td>-0.223962</td>\n",
       "    </tr>\n",
       "    <tr>\n",
       "      <th>2007-02-02</th>\n",
       "      <td>22197500</td>\n",
       "      <td>0.000000</td>\n",
       "      <td>0.016722</td>\n",
       "      <td>0.010000</td>\n",
       "      <td>0.006932</td>\n",
       "      <td>0.005943</td>\n",
       "      <td>0.028788</td>\n",
       "      <td>0.007001</td>\n",
       "      <td>True</td>\n",
       "      <td>-0.064443</td>\n",
       "    </tr>\n",
       "    <tr>\n",
       "      <th>2007-02-05</th>\n",
       "      <td>20673300</td>\n",
       "      <td>-0.009901</td>\n",
       "      <td>0.013333</td>\n",
       "      <td>-0.003322</td>\n",
       "      <td>0.007001</td>\n",
       "      <td>0.004983</td>\n",
       "      <td>0.028837</td>\n",
       "      <td>0.009358</td>\n",
       "      <td>True</td>\n",
       "      <td>-0.068665</td>\n",
       "    </tr>\n",
       "    <tr>\n",
       "      <th>2007-02-06</th>\n",
       "      <td>30871200</td>\n",
       "      <td>0.003333</td>\n",
       "      <td>0.020270</td>\n",
       "      <td>-0.003311</td>\n",
       "      <td>0.009358</td>\n",
       "      <td>0.006157</td>\n",
       "      <td>0.028837</td>\n",
       "      <td>0.014087</td>\n",
       "      <td>True</td>\n",
       "      <td>0.493288</td>\n",
       "    </tr>\n",
       "    <tr>\n",
       "      <th>2007-02-07</th>\n",
       "      <td>38100900</td>\n",
       "      <td>0.023256</td>\n",
       "      <td>0.033557</td>\n",
       "      <td>0.019868</td>\n",
       "      <td>0.014087</td>\n",
       "      <td>0.013570</td>\n",
       "      <td>0.021580</td>\n",
       "      <td>0.016444</td>\n",
       "      <td>True</td>\n",
       "      <td>0.234189</td>\n",
       "    </tr>\n",
       "  </tbody>\n",
       "</table>\n",
       "</div>"
      ],
      "text/plain": [
       "              Volume    Return      hilo  intraday     2dvar     5dvar  \\\n",
       "Date                                                                     \n",
       "2007-02-01  23726500 -0.009804  0.016502 -0.016234  0.006932  0.006925   \n",
       "2007-02-02  22197500  0.000000  0.016722  0.010000  0.006932  0.005943   \n",
       "2007-02-05  20673300 -0.009901  0.013333 -0.003322  0.007001  0.004983   \n",
       "2007-02-06  30871200  0.003333  0.020270 -0.003311  0.009358  0.006157   \n",
       "2007-02-07  38100900  0.023256  0.033557  0.019868  0.014087  0.013570   \n",
       "\n",
       "              20dvar  next_2d_var  vol_next  volume_ch  \n",
       "Date                                                    \n",
       "2007-02-01  0.029264     0.006932     False  -0.223962  \n",
       "2007-02-02  0.028788     0.007001      True  -0.064443  \n",
       "2007-02-05  0.028837     0.009358      True  -0.068665  \n",
       "2007-02-06  0.028837     0.014087      True   0.493288  \n",
       "2007-02-07  0.021580     0.016444      True   0.234189  "
      ]
     },
     "execution_count": 147,
     "metadata": {},
     "output_type": "execute_result"
    }
   ],
   "source": [
    "aapl_dataset.head()"
   ]
  },
  {
   "cell_type": "code",
   "execution_count": 138,
   "metadata": {},
   "outputs": [
    {
     "data": {
      "text/plain": [
       "False    1253\n",
       "True     1242\n",
       "Name: vol_next, dtype: int64"
      ]
     },
     "execution_count": 138,
     "metadata": {},
     "output_type": "execute_result"
    }
   ],
   "source": [
    "sp500_dataset.vol_next.value_counts()"
   ]
  },
  {
   "cell_type": "code",
   "execution_count": 139,
   "metadata": {},
   "outputs": [
    {
     "data": {
      "text/plain": [
       "False    1787\n",
       "True     1697\n",
       "Name: vol_next, dtype: int64"
      ]
     },
     "execution_count": 139,
     "metadata": {},
     "output_type": "execute_result"
    }
   ],
   "source": [
    "aapl_dataset.vol_next.value_counts()"
   ]
  },
  {
   "cell_type": "code",
   "execution_count": 143,
   "metadata": {},
   "outputs": [],
   "source": [
    "vix = vix.loc[:,:'Close']"
   ]
  },
  {
   "cell_type": "code",
   "execution_count": 145,
   "metadata": {},
   "outputs": [
    {
     "data": {
      "text/plain": [
       "<matplotlib.axes._subplots.AxesSubplot at 0x2b8d48fd5c0>"
      ]
     },
     "execution_count": 145,
     "metadata": {},
     "output_type": "execute_result"
    },
    {
     "data": {
      "image/png": "[encoded data removed]",
      "text/plain": [
       "<Figure size 432x288 with 1 Axes>"
      ]
     },
     "metadata": {
      "needs_background": "light"
     },
     "output_type": "display_data"
    }
   ],
   "source": [
    "vix.Open.plot()"
   ]
  },
  {
   "cell_type": "code",
   "execution_count": 161,
   "metadata": {},
   "outputs": [
    {
     "data": {
      "text/plain": [
       "<matplotlib.axes._subplots.AxesSubplot at 0x2b8d92856a0>"
      ]
     },
     "execution_count": 161,
     "metadata": {},
     "output_type": "execute_result"
    },
    {
     "data": {
      "image/png": "[encoded data removed]",
      "text/plain": [
       "<Figure size 432x288 with 1 Axes>"
      ]
     },
     "metadata": {
      "needs_background": "light"
     },
     "output_type": "display_data"
    }
   ],
   "source": [
    "import seaborn as sns\n",
    "sns.distplot(vix.Close)"
   ]
  },
  {
   "cell_type": "code",
   "execution_count": 170,
   "metadata": {},
   "outputs": [],
   "source": [
    "sp500.to_csv('sp500.csv')\n",
    "aapl.to_csv('aapl.csv')\n",
    "vix.to_csv('vix.csv')\n",
    "sp500_dataset.to_csv('sp500_dataset.csv')\n",
    "aapl_dataset.to_csv('aapl_dataset.csv')"
   ]
  },
  {
   "cell_type": "code",
   "execution_count": 171,
   "metadata": {
    "collapsed": true,
    "jupyter": {
     "outputs_hidden": true
    }
   },
   "outputs": [
    {
     "name": "stdout",
     "output_type": "stream",
     "text": [
      "Collecting pyflux\n",
      "  Downloading pyflux-0.4.15.tar.gz (1.3 MB)\n",
      "Requirement already satisfied: numpy in c:\\users\\suher\\anaconda3\\lib\\site-packages (from pyflux) (1.17.0)\n",
      "Requirement already satisfied: pandas in c:\\users\\suher\\anaconda3\\lib\\site-packages (from pyflux) (1.0.5)\n",
      "Requirement already satisfied: scipy in c:\\users\\suher\\anaconda3\\lib\\site-packages (from pyflux) (1.5.0)\n",
      "Collecting numdifftools\n",
      "  Downloading numdifftools-0.9.39-py2.py3-none-any.whl (953 kB)\n",
      "Requirement already satisfied: patsy in c:\\users\\suher\\anaconda3\\lib\\site-packages (from pyflux) (0.5.1)\n",
      "Requirement already satisfied: python-dateutil>=2.6.1 in c:\\users\\suher\\anaconda3\\lib\\site-packages (from pandas->pyflux) (2.8.1)\n",
      "Requirement already satisfied: pytz>=2017.2 in c:\\users\\suher\\anaconda3\\lib\\site-packages (from pandas->pyflux) (2020.1)\n",
      "Requirement already satisfied: six in c:\\users\\suher\\anaconda3\\lib\\site-packages (from patsy->pyflux) (1.15.0)\n",
      "Building wheels for collected packages: pyflux\n",
      "  Building wheel for pyflux (setup.py): started\n",
      "  Building wheel for pyflux (setup.py): finished with status 'done'\n",
      "  Created wheel for pyflux: filename=pyflux-0.4.15-cp36-cp36m-win_amd64.whl size=1250170 sha256=f28f3bc4412eafffbfa145c86734756d9ad2bac567b5fe654167abb805ba666a\n",
      "  Stored in directory: c:\\users\\suher\\appdata\\local\\pip\\cache\\wheels\\d0\\75\\75\\5e6c26d910209766f8aa4bd6940e391277eb3ec2a3501f9965\n",
      "Successfully built pyflux\n",
      "Installing collected packages: numdifftools, pyflux\n",
      "Successfully installed numdifftools-0.9.39 pyflux-0.4.15\n"
     ]
    }
   ],
   "source": [
    "!pip install pyflux"
   ]
  },
  {
   "cell_type": "code",
   "execution_count": 172,
   "metadata": {},
   "outputs": [],
   "source": [
    "import pyflux as pf"
   ]
  },
  {
   "cell_type": "code",
   "execution_count": 173,
   "metadata": {},
   "outputs": [],
   "source": [
    "a_ret = aapl_dataset.Return"
   ]
  },
  {
   "cell_type": "code",
   "execution_count": 182,
   "metadata": {},
   "outputs": [
    {
     "data": {
      "text/plain": [
       "<matplotlib.axes._subplots.AxesSubplot at 0x2b8d7f777f0>"
      ]
     },
     "execution_count": 182,
     "metadata": {},
     "output_type": "execute_result"
    },
    {
     "data": {
      "image/png": "[encoded data removed]",
      "text/plain": [
       "<Figure size 432x288 with 1 Axes>"
      ]
     },
     "metadata": {
      "needs_background": "light"
     },
     "output_type": "display_data"
    }
   ],
   "source": [
    "abs(a_ret).plot()\n",
    "aapl_dataset['2dvar'].plot()"
   ]
  },
  {
   "cell_type": "code",
   "execution_count": 203,
   "metadata": {},
   "outputs": [
    {
     "data": {
      "text/plain": [
       "<matplotlib.axes._subplots.AxesSubplot at 0x2b8a4d77710>"
      ]
     },
     "execution_count": 203,
     "metadata": {},
     "output_type": "execute_result"
    },
    {
     "data": {
      "image/png": "[encoded data removed]",
      "text/plain": [
       "<Figure size 432x288 with 1 Axes>"
      ]
     },
     "metadata": {
      "needs_background": "light"
     },
     "output_type": "display_data"
    }
   ],
   "source": [
    "aapl_dataset['20dvar'].plot()"
   ]
  },
  {
   "cell_type": "code",
   "execution_count": 202,
   "metadata": {},
   "outputs": [
    {
     "data": {
      "text/plain": [
       "<matplotlib.axes._subplots.AxesSubplot at 0x2b8a4d10668>"
      ]
     },
     "execution_count": 202,
     "metadata": {},
     "output_type": "execute_result"
    },
    {
     "data": {
      "image/png": "[encoded data removed]",
      "text/plain": [
       "<Figure size 432x288 with 1 Axes>"
      ]
     },
     "metadata": {
      "needs_background": "light"
     },
     "output_type": "display_data"
    }
   ],
   "source": [
    "aapl_dataset['20dvar'].plot(c='Red')\n",
    "aapl_dataset['2dvar'].plot(c='Blue')"
   ]
  },
  {
   "cell_type": "code",
   "execution_count": 181,
   "metadata": {},
   "outputs": [
    {
     "data": {
      "text/html": [
       "<div>\n",
       "<style scoped>\n",
       "    .dataframe tbody tr th:only-of-type {\n",
       "        vertical-align: middle;\n",
       "    }\n",
       "\n",
       "    .dataframe tbody tr th {\n",
       "        vertical-align: top;\n",
       "    }\n",
       "\n",
       "    .dataframe thead th {\n",
       "        text-align: right;\n",
       "    }\n",
       "</style>\n",
       "<table border=\"1\" class=\"dataframe\">\n",
       "  <thead>\n",
       "    <tr style=\"text-align: right;\">\n",
       "      <th></th>\n",
       "      <th>Return</th>\n",
       "      <th>2dvar</th>\n",
       "    </tr>\n",
       "    <tr>\n",
       "      <th>Date</th>\n",
       "      <th></th>\n",
       "      <th></th>\n",
       "    </tr>\n",
       "  </thead>\n",
       "  <tbody>\n",
       "    <tr>\n",
       "      <th>2007-03-30</th>\n",
       "      <td>-0.008955</td>\n",
       "      <td>0.010579</td>\n",
       "    </tr>\n",
       "    <tr>\n",
       "      <th>2007-04-02</th>\n",
       "      <td>0.006024</td>\n",
       "      <td>0.010592</td>\n",
       "    </tr>\n",
       "    <tr>\n",
       "      <th>2007-04-03</th>\n",
       "      <td>0.011976</td>\n",
       "      <td>0.004209</td>\n",
       "    </tr>\n",
       "    <tr>\n",
       "      <th>2007-04-04</th>\n",
       "      <td>-0.002959</td>\n",
       "      <td>0.010560</td>\n",
       "    </tr>\n",
       "    <tr>\n",
       "      <th>2007-04-05</th>\n",
       "      <td>0.002967</td>\n",
       "      <td>0.004190</td>\n",
       "    </tr>\n",
       "    <tr>\n",
       "      <th>...</th>\n",
       "      <td>...</td>\n",
       "      <td>...</td>\n",
       "    </tr>\n",
       "    <tr>\n",
       "      <th>2020-11-24</th>\n",
       "      <td>0.011594</td>\n",
       "      <td>0.029230</td>\n",
       "    </tr>\n",
       "    <tr>\n",
       "      <th>2020-11-25</th>\n",
       "      <td>0.007467</td>\n",
       "      <td>0.002918</td>\n",
       "    </tr>\n",
       "    <tr>\n",
       "      <th>2020-11-27</th>\n",
       "      <td>0.004826</td>\n",
       "      <td>0.001867</td>\n",
       "    </tr>\n",
       "    <tr>\n",
       "      <th>2020-11-30</th>\n",
       "      <td>0.021100</td>\n",
       "      <td>0.011507</td>\n",
       "    </tr>\n",
       "    <tr>\n",
       "      <th>2020-12-01</th>\n",
       "      <td>0.030827</td>\n",
       "      <td>0.006879</td>\n",
       "    </tr>\n",
       "  </tbody>\n",
       "</table>\n",
       "<p>3444 rows × 2 columns</p>\n",
       "</div>"
      ],
      "text/plain": [
       "              Return     2dvar\n",
       "Date                          \n",
       "2007-03-30 -0.008955  0.010579\n",
       "2007-04-02  0.006024  0.010592\n",
       "2007-04-03  0.011976  0.004209\n",
       "2007-04-04 -0.002959  0.010560\n",
       "2007-04-05  0.002967  0.004190\n",
       "...              ...       ...\n",
       "2020-11-24  0.011594  0.029230\n",
       "2020-11-25  0.007467  0.002918\n",
       "2020-11-27  0.004826  0.001867\n",
       "2020-11-30  0.021100  0.011507\n",
       "2020-12-01  0.030827  0.006879\n",
       "\n",
       "[3444 rows x 2 columns]"
      ]
     },
     "execution_count": 181,
     "metadata": {},
     "output_type": "execute_result"
    }
   ],
   "source": [
    "aapl_dataset[['Return','2dvar']]"
   ]
  }
 ],
 "metadata": {
  "kernelspec": {
   "display_name": "Python 3",
   "language": "python",
   "name": "python3"
  },
  "language_info": {
   "codemirror_mode": {
    "name": "ipython",
    "version": 3
   },
   "file_extension": ".py",
   "mimetype": "text/x-python",
   "name": "python",
   "nbconvert_exporter": "python",
   "pygments_lexer": "ipython3",
   "version": "3.8.5"
  }
 },
 "nbformat": 4,
 "nbformat_minor": 4
}
